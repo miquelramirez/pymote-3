{
 "metadata": {
  "name": "Pymote uvod"
 },
 "nbformat": 3,
 "nbformat_minor": 0,
 "worksheets": [
  {
   "cells": [
    {
     "cell_type": "markdown",
     "metadata": {},
     "source": [
      "#Uvod u Pymote\n",
      "\n",
      "Cilj ove vje\u017ebe je napraviti pregled najbitnijih komponenti paketa Pymote za simulaciju raspodijeljenih algoritama."
     ]
    },
    {
     "cell_type": "markdown",
     "metadata": {},
     "source": [
      "## 'Hello distributed world'\n",
      "\n",
      "U ovom primjeru analiziramo implementaciju jednog od najjednostavnijih algoritma koji rije\u0161ava problem *Broadcast*: `Flood`. Cilj algoritma je podijeliti informaciju koju posjeduje jedan \u010dvor ostalim \u010dvorovima u mre\u017ei."
     ]
    },
    {
     "cell_type": "markdown",
     "metadata": {},
     "source": [
      "U ovom primjeru koristi se interkativna konzola IPython te se stoga preporu\u010da najprije napraviti import najva\u017enijih klasa i funkcija paketa pymote na slijede\u0107i na\u010din:"
     ]
    },
    {
     "cell_type": "code",
     "collapsed": false,
     "input": [
      "from pymote import *"
     ],
     "language": "python",
     "metadata": {},
     "outputs": []
    },
    {
     "cell_type": "markdown",
     "metadata": {},
     "source": [
      "Ukoliko se konzola pokre\u0107e programom `ipymote`, u kojem je preddefinirano kori\u0161tenje profila pymote tada je ovaj import ve\u0107 u\u010dinjen prilikom starta."
     ]
    },
    {
     "cell_type": "markdown",
     "metadata": {},
     "source": [
      "### Kreiranje mre\u017ee\n",
      "\n",
      "Mre\u017ea kao osnovna struktura mo\u017ee se kreirati na vi\u0161e na\u010dina. U ve\u0107ini slu\u010dajeva sasvim dovoljno je koristiti klasu `NetworkGenerator` kojoj se prilikom instanciranja pridru\u017ee \u017eeljeni parametri kao \u0161to su broj \u010dvorova (to\u010dan, maksimalan, minimalan) prosje\u010dan broj susjeda itd... \n",
      "\n",
      "U ovom primjeru jedini parametar koji se \u017eeli imati pod kontrolom je broj \u010dvorova, a iznosi 100:"
     ]
    },
    {
     "cell_type": "code",
     "collapsed": false,
     "input": [
      "net_gen = NetworkGenerator(100) "
     ],
     "language": "python",
     "metadata": {},
     "outputs": []
    },
    {
     "cell_type": "markdown",
     "metadata": {},
     "source": [
      "Nakon toga mo\u017eemo koristiti metode generatora kako bi izradili nove mre\u017ee s \u017eeljenim parametrima, primjerice za nasumi\u010dan raspored \u010dvorova koristi se metoda `generate_random_network()`:"
     ]
    },
    {
     "cell_type": "code",
     "collapsed": false,
     "input": [
      "net = net_gen.generate_random_network()"
     ],
     "language": "python",
     "metadata": {},
     "outputs": []
    },
    {
     "cell_type": "markdown",
     "metadata": {},
     "source": [
      "Metoda kao rezultat vra\u0107a \u017eeljenu mre\u017eu odnosno instancu klase `Network`:"
     ]
    },
    {
     "cell_type": "code",
     "collapsed": false,
     "input": [
      "net"
     ],
     "language": "python",
     "metadata": {},
     "outputs": []
    },
    {
     "cell_type": "markdown",
     "metadata": {},
     "source": [
      "koju se mo\u017ee vizualizirati kori\u0161tenjem metode `show()`:"
     ]
    },
    {
     "cell_type": "code",
     "collapsed": false,
     "input": [
      "net.show()"
     ],
     "language": "python",
     "metadata": {},
     "outputs": []
    },
    {
     "cell_type": "markdown",
     "metadata": {},
     "source": [
      "### Algoritam\n",
      "\n",
      "Algoritam `Flood` dio je modula `broadcast` te ukoliko ga \u017eelimo koristiti moramo ga importirati:"
     ]
    },
    {
     "cell_type": "code",
     "collapsed": false,
     "input": [
      "from pymote.algorithms.broadcast import Flood"
     ],
     "language": "python",
     "metadata": {},
     "outputs": []
    },
    {
     "cell_type": "markdown",
     "metadata": {},
     "source": [
      "i pridru\u017eiti mre\u017ei:"
     ]
    },
    {
     "cell_type": "code",
     "collapsed": false,
     "input": [
      "net.algorithms = ( (Flood, {'informationKey':'I'}), )"
     ],
     "language": "python",
     "metadata": {},
     "outputs": []
    },
    {
     "cell_type": "markdown",
     "metadata": {},
     "source": [
      "Kod pridru\u017eivanja algoritama mre\u017ei potrebno je primjetiti nekoliko stvari:\n",
      "\n",
      "* pojedini algoritam je torka odn. `tuple` od dva elementa u kojem je prvi klasa algoritma, u ovom slu\u010daju `Flood`, a drugi je `dict` koji se sastoji od parametara, npr. `Flood` prima kao obavezni parametar klju\u010d pod kojim \u0107e \u010dvorovi u svojoj memoriji spremati informaciju koja se \u017eeli podijeliti\n",
      "* algoritmi se pridru\u017euju kao elementi torke, a kako u ovom primjeru se pridru\u017euje samo jedan algoritam potrebno je iza njega dodati zarez kako bi Python stvorio torku od jednog elementa jer primjerice `(1)` je `int`, ali `(1,)` je `tuple`"
     ]
    },
    {
     "cell_type": "markdown",
     "metadata": {},
     "source": [
      "Algoritam zahtijeva postojanje barem jednog \u010dvora koji ima informaciju, odn. inicijatora. Kako bi to bilo osigurano jednom od \u010dvorova se ta informacija treba upisati u memoriju:"
     ]
    },
    {
     "cell_type": "code",
     "collapsed": false,
     "input": [
      "some_node = net.nodes()[0]                         # uzimamo prvi cvor u listi cvorova mreze\n",
      "some_node.memory['I'] = 'Hello distributed world'  # pod kljucem 'I' upisujemo informaciju"
     ],
     "language": "python",
     "metadata": {},
     "outputs": []
    },
    {
     "cell_type": "markdown",
     "metadata": {},
     "source": [
      "### Simulacija\n",
      "\n",
      "Nakon definicije mre\u017ee i pridru\u017eivanja algoritma potrebno je pokrenuti simulaciju. Simulaciji se pri instanciranju kao argument \u0161alje mre\u017ea nad kojom se \u017eeli obaviti simulacija:"
     ]
    },
    {
     "cell_type": "code",
     "collapsed": false,
     "input": [
      "sim = Simulation(net)"
     ],
     "language": "python",
     "metadata": {},
     "outputs": []
    },
    {
     "cell_type": "markdown",
     "metadata": {},
     "source": [
      "Ostaje pokrenuti simulaciju:"
     ]
    },
    {
     "cell_type": "code",
     "collapsed": false,
     "input": [
      "sim.run()"
     ],
     "language": "python",
     "metadata": {},
     "outputs": []
    },
    {
     "cell_type": "markdown",
     "metadata": {},
     "source": [
      "Nakon \u0161to je zavr\u0161ilo izvr\u0161avanje algoritama pogledajmo ako je informacija uspje\u0161no podijeljena tako \u0161to \u0107emo ispisati sadr\u017eaj memorije \u010dvorova:"
     ]
    },
    {
     "cell_type": "code",
     "collapsed": false,
     "input": [
      "for node in net.nodes():\n",
      "    print node.memory['I'],"
     ],
     "language": "python",
     "metadata": {},
     "outputs": []
    },
    {
     "cell_type": "markdown",
     "metadata": {},
     "source": [
      "Kako bi informacija o stanju u kojem se nalazi mre\u017ea bila potpuna prati se i trenutno stanje algoritma:"
     ]
    },
    {
     "cell_type": "code",
     "collapsed": false,
     "input": [
      "net.algorithmState"
     ],
     "language": "python",
     "metadata": {},
     "outputs": []
    },
    {
     "cell_type": "markdown",
     "metadata": {},
     "source": [
      "U ovom slu\u010daju algoritam pod indeksom 0 je zavr\u0161io, uz navedeni trenutni broj koraka."
     ]
    },
    {
     "cell_type": "markdown",
     "metadata": {},
     "source": [
      "Ako se \u017eeli ponovno pokrenuti simulacija potrebno ju je resetirati:"
     ]
    },
    {
     "cell_type": "code",
     "collapsed": false,
     "input": [
      "sim.reset()"
     ],
     "language": "python",
     "metadata": {},
     "outputs": []
    },
    {
     "cell_type": "markdown",
     "metadata": {},
     "source": [
      "\u010dime se:\n",
      "\n",
      "* stanje algoritama mre\u017ee postavlja na po\u010detno:"
     ]
    },
    {
     "cell_type": "code",
     "collapsed": false,
     "input": [
      "net.algorithmState"
     ],
     "language": "python",
     "metadata": {},
     "outputs": []
    },
    {
     "cell_type": "markdown",
     "metadata": {},
     "source": [
      "* te se uz to bri\u0161e i sva memorija \u010dvorova:"
     ]
    },
    {
     "cell_type": "code",
     "collapsed": false,
     "input": [
      "for node in net.nodes():\n",
      "    print node.memory,"
     ],
     "language": "python",
     "metadata": {},
     "outputs": []
    },
    {
     "cell_type": "code",
     "collapsed": false,
     "input": [
      "some_node.memory['I'] = 'Hello again'\n",
      "sim.run()"
     ],
     "language": "python",
     "metadata": {},
     "outputs": []
    },
    {
     "cell_type": "markdown",
     "metadata": {},
     "source": [
      "## Analiza algoritma\n",
      "\n",
      "Algoritam *Flood* je vrlo jednostavan i u cijelosti je definiran na slijede\u0107i na\u010din:\n",
      "\n",
      "$initiator \\times \\iota \\longrightarrow \\\\{\\\\text{Process}(I);\\; {\\\\bf\\\\text{send}}(I) \\to N(x);\\; {\\\\bf\\\\text{become}}\\; \\\\text{done}\\\\}$\n",
      "\n",
      "$idle \\times \\\\text{Receiving}(I) \\longrightarrow \\\\{\\\\text{Process}(I);\\; {\\\\bf\\\\text{send}}(I) \\to N(x) - {\\\\bf\\\\text{sender}};\\; {\\\\bf\\\\text{become}}\\; \\\\text{done}\\\\}$"
     ]
    },
    {
     "cell_type": "markdown",
     "metadata": {},
     "source": [
      "Pogledajmo kod za modul `pymote.algorithms.broadcast` u kojem se nalazi algoritam `Flood`:"
     ]
    },
    {
     "cell_type": "code",
     "collapsed": false,
     "input": [
      "%load '/home/ubuntu/bmo_env/src/pymote/pymote/algorithms/broadcast.py'"
     ],
     "language": "python",
     "metadata": {},
     "outputs": []
    },
    {
     "cell_type": "code",
     "collapsed": false,
     "input": [
      "from pymote.algorithm import NodeAlgorithm\n",
      "from pymote.message import Message\n",
      "\n",
      "\n",
      "\n",
      "class Flood(NodeAlgorithm):\n",
      "    required_params = ('informationKey',)\n",
      "    default_params = {'neighborsKey':'Neighbors'}\n",
      "\n",
      "    def initializer(self):\n",
      "        ini_nodes = []\n",
      "        for node in self.network.nodes():\n",
      "            node.memory[self.neighborsKey] = node.compositeSensor.read()['Neighbors']\n",
      "            node.status = 'IDLE'\n",
      "            if node.memory.has_key(self.informationKey):\n",
      "                node.status = 'INITIATOR'\n",
      "                ini_nodes.append(node)\n",
      "        for ini_node in ini_nodes:\n",
      "            self.network.outbox.insert(0,Message(header=NodeAlgorithm.INI,\n",
      "                                                 destination=ini_node))\n",
      "\n",
      "    def initiator(self, node, message):\n",
      "        if message.header==NodeAlgorithm.INI:\n",
      "            node.send(Message(header='Information',  # default destination: send to every neighbor\n",
      "                              data=node.memory[self.informationKey]))\n",
      "            node.status = 'DONE'\n",
      "\n",
      "    def idle(self, node, message):\n",
      "        if message.header=='Information':\n",
      "            node.memory[self.informationKey] = message.data\n",
      "            destination_nodes = list(node.memory[self.neighborsKey])\n",
      "            destination_nodes.remove(message.source) # send to every neighbor-sender\n",
      "            if destination_nodes:\n",
      "                node.send(Message(destination=destination_nodes,\n",
      "                                  header='Information',\n",
      "                                  data=message.data))\n",
      "        node.status = 'DONE'\n",
      "\n",
      "    def done(self, node, message):\n",
      "        pass\n",
      "\n",
      "    STATUS = {\n",
      "              'INITIATOR': initiator,\n",
      "              'IDLE': idle,\n",
      "              'DONE': done,\n",
      "             }"
     ],
     "language": "python",
     "metadata": {},
     "outputs": []
    },
    {
     "cell_type": "markdown",
     "metadata": {},
     "source": [
      "## Osnovne komponente\n",
      "\n",
      "U ovom dijelu opisane su osnovne komponente Pymote paketa te njihov me\u0111usoban odnos."
     ]
    },
    {
     "cell_type": "code",
     "collapsed": false,
     "input": [
      "from IPython.display import Image\n",
      "Image(filename='../images/pymote_class_diagram.png')"
     ],
     "language": "python",
     "metadata": {},
     "outputs": []
    },
    {
     "cell_type": "markdown",
     "metadata": {},
     "source": [
      "### Graf\n",
      "\n",
      "Pymote paket se zasniva djelomi\u010dno na pro\u0161irenju mogu\u0107nosti paketa [NetworkX](http://networkx.lanl.gov/index.html). Dodirna to\u010dka je klasa [Graph](http://networkx.github.io/documentation/latest/reference/classes.html) koja predstavlja neusmjereni graf."
     ]
    },
    {
     "cell_type": "code",
     "collapsed": false,
     "input": [
      "from networkx import Graph\n",
      "g = Graph()"
     ],
     "language": "python",
     "metadata": {},
     "outputs": []
    },
    {
     "cell_type": "markdown",
     "metadata": {},
     "source": [
      "`Graph` definira:\n",
      "\n",
      "* vrhove grafa `Graph.node` -- `dict` u kojem su klju\u010devi vrhovi odnosno bilo kakvi *immutable/hashable* python objekti, a vrijednosti njihovi (opcionalni) atributi"
     ]
    },
    {
     "cell_type": "code",
     "collapsed": false,
     "input": [
      "g.add_nodes_from([1,2,3,4,5,6])\n",
      "g.node"
     ],
     "language": "python",
     "metadata": {},
     "outputs": []
    },
    {
     "cell_type": "markdown",
     "metadata": {},
     "source": [
      "* bridove grafa `Graph.adj` ili `Graph.edge` (isti objekt) -- `dict` u kojem su klju\u010devi vrhovi, a vrijednost za pojedini vrh je `dict` \u010diji su klju\u010devi vrhovi susjedi zadanog vrha, a vrijednosti su (opcionalni) atributi brida"
     ]
    },
    {
     "cell_type": "code",
     "collapsed": false,
     "input": [
      "g.add_edges_from([(1,2),(1,3),(2,3),(3,4),(4,5),(5,6),(1,6),(5,2)])\n",
      "print g.edge is g.adj\n",
      "g.edge"
     ],
     "language": "python",
     "metadata": {},
     "outputs": []
    },
    {
     "cell_type": "markdown",
     "metadata": {},
     "source": [
      "* razne metode za manipulaciju strukturom grafa"
     ]
    },
    {
     "cell_type": "code",
     "collapsed": false,
     "input": [
      "g.add_star(g.nodes())\n",
      "g.edge"
     ],
     "language": "python",
     "metadata": {},
     "outputs": []
    },
    {
     "cell_type": "markdown",
     "metadata": {},
     "source": [
      "* [funkcije za iscrtavanje](http://networkx.github.io/documentation/latest/reference/drawing.html)"
     ]
    },
    {
     "cell_type": "code",
     "collapsed": false,
     "input": [
      "from networkx import draw_networkx\n",
      "draw_networkx(g)"
     ],
     "language": "python",
     "metadata": {},
     "outputs": []
    },
    {
     "cell_type": "markdown",
     "metadata": {},
     "source": [
      "* [algoritme](http://networkx.github.io/documentation/latest/reference/algorithms.html), kao npr. [shortest_path](http://networkx.github.io/documentation/latest/reference/generated/networkx.algorithms.shortest_paths.generic.shortest_path.html)"
     ]
    },
    {
     "cell_type": "code",
     "collapsed": false,
     "input": [
      "from networkx.algorithms import shortest_path\n",
      "shortest_path(g,2,6)"
     ],
     "language": "python",
     "metadata": {},
     "outputs": []
    },
    {
     "cell_type": "markdown",
     "metadata": {},
     "source": [
      "Dodatno NetworkX paket sadr\u017ei i:\n",
      "\n",
      "* druge tipove grafova (usmjereni, multigraf...) "
     ]
    },
    {
     "cell_type": "code",
     "collapsed": false,
     "input": [
      "from networkx import DiGraph\n",
      "dg = DiGraph([(1,2),(2,1),(1,3),(3,2)])\n",
      "draw_networkx(dg)"
     ],
     "language": "python",
     "metadata": {},
     "outputs": []
    },
    {
     "cell_type": "markdown",
     "metadata": {},
     "source": [
      "* [generatore grafova](http://networkx.github.io/documentation/latest/reference/generators.html), kao npr. [hypercube_graph](http://networkx.github.io/documentation/latest/reference/generated/networkx.generators.classic.hypercube_graph.html#networkx.generators.classic.hypercube_graph)"
     ]
    },
    {
     "cell_type": "code",
     "collapsed": false,
     "input": [
      "from networkx.generators.classic import hypercube_graph\n",
      "hcg = hypercube_graph(3)\n",
      "draw_networkx(hcg)"
     ],
     "language": "python",
     "metadata": {},
     "outputs": []
    },
    {
     "cell_type": "markdown",
     "metadata": {},
     "source": [
      " * [konvertere](http://networkx.github.io/documentation/latest/reference/convert.html) itd."
     ]
    },
    {
     "cell_type": "code",
     "collapsed": false,
     "input": [
      "mat = numpy.random.random((6,6))>0.5\n",
      "print mat\n",
      "from networkx.convert import from_numpy_matrix\n",
      "g = from_numpy_matrix(mat)\n",
      "draw_networkx(g)"
     ],
     "language": "python",
     "metadata": {},
     "outputs": []
    },
    {
     "cell_type": "markdown",
     "metadata": {},
     "source": [
      "### Mre\u017ea\n",
      "\n",
      "`Network` je osnovna klasa Pymote simulatora. Njene instance sadr\u017ee sve informacije potrebne kako bi se za pojedinu mre\u017eu pokrenula ili nastavila simulacija njoj pripadaju\u0107ih algoritama. Kao \u0161to je ve\u0107 nagla\u0161eno klasa `Network` je podklasa (podrazred) klase Graph iz paketa NetworkX. \n",
      "\n",
      "Uz sve zna\u010dajke grafa Pymote u klasi `Network` pro\u0161iruje mogu\u0107nosti sa slijede\u0107im atributima i funkcionalnostima:\n",
      "\n",
      "* `Network.environment` - trenutno je omgu\u0107eno samo 2D okru\u017eenje, kroz instancu klase `Environment2D`"
     ]
    },
    {
     "cell_type": "code",
     "collapsed": false,
     "input": [
      "from pymote.environment import Environment2D\n",
      "o_env = Environment2D(path='../images/o_shape.png')\n",
      "c_env = Environment2D(path='../images/c_shape.png')\n",
      "o_net = Network(environment=o_env)\n",
      "c_net = Network(environment=c_env)\n",
      "for _ in range(100):\n",
      "    o_net.add_node()\n",
      "    c_net.add_node()\n",
      "o_net.show()\n",
      "c_net.show()"
     ],
     "language": "python",
     "metadata": {},
     "outputs": []
    },
    {
     "cell_type": "markdown",
     "metadata": {},
     "source": [
      "* `Network.pos` - lokacija \u010dvorova u okru\u017eenju"
     ]
    },
    {
     "cell_type": "code",
     "collapsed": false,
     "input": [
      "net.pos"
     ],
     "language": "python",
     "metadata": {},
     "outputs": []
    },
    {
     "cell_type": "markdown",
     "metadata": {},
     "source": [
      "* `Network.algorithms` - torka algoritama: svi \u010dvorovi izvr\u0161avaju iste algoritme, pa je mre\u017ea adekvatno mjesto za definiciju"
     ]
    },
    {
     "cell_type": "code",
     "collapsed": false,
     "input": [
      "net.algorithms"
     ],
     "language": "python",
     "metadata": {},
     "outputs": []
    },
    {
     "cell_type": "markdown",
     "metadata": {},
     "source": [
      "* `Network.channelType` - model komunikacijskog kanala"
     ]
    },
    {
     "cell_type": "code",
     "collapsed": false,
     "input": [
      "net.channelType"
     ],
     "language": "python",
     "metadata": {},
     "outputs": []
    },
    {
     "cell_type": "code",
     "collapsed": false,
     "input": [
      "#%load '/home/ubuntu/bmo_env/src/pymote/pymote/channeltype.py'\n",
      "from pymote.channeltype import Udg, SquareDisc\n",
      "udg = Udg(net.environment)\n",
      "scd = SquareDisc(net.environment)\n",
      "udg_cr = []\n",
      "scd_cr = []\n",
      "distances = range(1,201,10)\n",
      "net = Network()\n",
      "node1 = net.add_node(pos=[1,1])\n",
      "for i,distance in enumerate(distances):\n",
      "    node2 = net.add_node(pos=[1.1,distance])\n",
      "    udg_cr.append(mean([udg.in_comm_range(net,node1,node2) for j in range(10)]))\n",
      "    scd_cr.append(mean([scd.in_comm_range(net,node1,node2) for j in range(10)]))\n",
      "plt.ylim(0,1.1)\n",
      "plot(distances,udg_cr)\n",
      "plot(distances,scd_cr)\n"
     ],
     "language": "python",
     "metadata": {},
     "outputs": []
    },
    {
     "cell_type": "markdown",
     "metadata": {},
     "source": [
      "* model komunikacije kroz `Network.outbox` i `Network.communicate()`"
     ]
    },
    {
     "cell_type": "markdown",
     "metadata": {},
     "source": [
      "Mre\u017ea je sredi\u0161nji objekt u Pymote paketu i ona sadr\u017ei sve potrebne informacije kako bi se rekreirao eksperiment ili sa\u010duvali podaci za kasniju analizu. Shodno tome implementirane su metode za njeno spremanje i \u010ditanje s diska:"
     ]
    },
    {
     "cell_type": "code",
     "collapsed": false,
     "input": [
      "write_npickle(net,'mreza1.tar.gz')\n",
      "net_from_file = read_npickle('mreza1.tar.gz') \n",
      "net_from_file"
     ],
     "language": "python",
     "metadata": {},
     "outputs": []
    },
    {
     "cell_type": "code",
     "collapsed": false,
     "input": [
      "!ls -algo mr*"
     ],
     "language": "python",
     "metadata": {},
     "outputs": []
    },
    {
     "cell_type": "markdown",
     "metadata": {},
     "source": [
      "### Algoritmi\n",
      "\n",
      "Pymote podr\u017eava dva tipa algoritama raspodijeljeni i centralizirani:\n",
      "\n",
      "* *Centralizirani* algoritmi se implementiraju kao podklase od `NetworkAlgorithm` i funkcioniraju po prinicipu izravnog upisivanja podataka u memoriju \u010dvorova.\n",
      "* *Raspodijeljeni* algoritmi se implementiraju kao podklase od `NodeAlgorithm`. Raspodijeljeni algoritmi mogu koristiti samo informacije spremljene u samoj memoriji \u010dvora te one dobivene o\u010ditanjem osjetila koje pojeduje \u010dvor."
     ]
    },
    {
     "cell_type": "markdown",
     "metadata": {},
     "source": [
      "### \u010cvorovi\n",
      "\n",
      "\u010cvorovi su instance klase `Node` koja izme\u0111u ostalog implementira slijede\u0107e atribute i metode:\n",
      "\n",
      "* `memory` - `dict` u kojem \u010dvor \u010duva cjelokupno znanje koje mo\u017ee prikupiti na dva na\u010dina:\n",
      " * o\u010ditanje osjetila - npr. polje `Neighbors` u algoritmu `Flood`\n",
      " * informacije u primljenim porukama - npr. polje `I` u algoritmu `Flood`"
     ]
    },
    {
     "cell_type": "code",
     "collapsed": false,
     "input": [
      "some_node.memory['Neighbors']"
     ],
     "language": "python",
     "metadata": {},
     "outputs": []
    },
    {
     "cell_type": "code",
     "collapsed": false,
     "input": [
      "some_node.memory['I']"
     ],
     "language": "python",
     "metadata": {},
     "outputs": []
    },
    {
     "cell_type": "markdown",
     "metadata": {},
     "source": [
      "* `status` - registar u memoriji s posebnim zna\u010denjem za raspodijeljene algoritme implementiran je kao poseban atribut"
     ]
    },
    {
     "cell_type": "code",
     "collapsed": false,
     "input": [
      "some_node.status"
     ],
     "language": "python",
     "metadata": {},
     "outputs": []
    },
    {
     "cell_type": "markdown",
     "metadata": {},
     "source": [
      "* `commRange` - komunikacijski domet \u010dvora: u kombinaciji s pozicijom, okru\u017eenjem i modelom kominikacijskog kanala odre\u0111uje susjede pojedinog \u010dvora"
     ]
    },
    {
     "cell_type": "code",
     "collapsed": false,
     "input": [
      "some_node.commRange"
     ],
     "language": "python",
     "metadata": {},
     "outputs": []
    },
    {
     "cell_type": "markdown",
     "metadata": {},
     "source": [
      "* `outbox` i `_inbox` - liste u kojima su spremeljene poruke (instance klase `Message`) spremene za slanje odnosno primljene poruke\n",
      "* `send()` - metoda za slanje poruka drugim \u010dvorovima\n",
      "* `compositeSensor` - predstavlja torku osjetila koji su instalirani na \u010dvoru te implementira metodu `read()` koja vra\u0107a `dict` s klju\u010devima koji odgovaraju pojedinom osjetilu, a vrijednosti su njihova trenutna o\u010ditanja"
     ]
    },
    {
     "cell_type": "code",
     "collapsed": false,
     "input": [
      "print some_node.compositeSensor\n",
      "print some_node.compositeSensor.sensors\n",
      "some_node.compositeSensor.read()"
     ],
     "language": "python",
     "metadata": {},
     "outputs": []
    },
    {
     "cell_type": "markdown",
     "metadata": {},
     "source": [
      "### Osjetila\n",
      "\n",
      "Osjetila predstavljaju su\u010delje \u010dvora prema okolini. Impelentirani su kao podklase apstraktne klase `Sensor`. Implementiraju metodu `read()` koja u ovisnosti o osjetilu mo\u017ee svoje podatke dobiti uvidom u mre\u017eu odnosno okru\u017eenje."
     ]
    },
    {
     "cell_type": "code",
     "collapsed": false,
     "input": [
      "from pymote.sensor import TruePosSensor\n",
      "new_net = Network()\n",
      "node = new_net.add_node(pos=[100,100])\n",
      "node.compositeSensor = (TruePosSensor,'DistSensor')\n",
      "new_net.add_node(pos=[170,170])\n",
      "node.compositeSensor.read()"
     ],
     "language": "python",
     "metadata": {},
     "outputs": []
    },
    {
     "cell_type": "markdown",
     "metadata": {},
     "source": [
      "Zgodno je primjetiti kako je prvo osjetilo pridru\u017eeno kao klasa, a drugo samo imenom klase. I jedna i druga opcija su mogu\u0107e."
     ]
    },
    {
     "cell_type": "markdown",
     "metadata": {},
     "source": [
      "Pojedino osjetilo mo\u017ee implementirati atribut `probabilityFunction` koji mu omogu\u0107ava 'za\u0161umljivanje' dobivenih podataka kako bi o\u010ditanje bilo bli\u017ee stvarnom o\u010ditanju koje je u ve\u0107ini slu\u010dajeva podlo\u017eno manjim ili ve\u0107im mjernim nesigurnostima."
     ]
    },
    {
     "cell_type": "code",
     "collapsed": false,
     "input": [
      "dist_sensor = node.compositeSensor.sensors[0]\n",
      "dist_sensor.probabilityFunction.pf"
     ],
     "language": "python",
     "metadata": {},
     "outputs": []
    },
    {
     "cell_type": "code",
     "collapsed": false,
     "input": [
      "distances = []\n",
      "for i in range(1000):\n",
      "    distances.append(node.compositeSensor.read()['Dist'].values()[0])\n",
      "h = hist(distances,bins=30)"
     ],
     "language": "python",
     "metadata": {},
     "outputs": []
    },
    {
     "cell_type": "markdown",
     "metadata": {},
     "source": [
      "Osjetila koje odre\u0111eni \u010dvor posjeduje mogu promijeniti njegovu ulogu unutar pojeding algoritma. Primjerice kod algoritma lokalizacije \u010dvor s `TruePos` osjetilom predstavlja sidro.\n",
      "\n",
      "Osjetila slu\u017ee i kako bi se implementirala odre\u0111ene pretpostavke, nazvane jo\u0161 i ograni\u010denja algoritma. Primjerice, ukoliko algoritam zahtijeva za svaki \u010dvor poznavanje svojih susjeda tada se u svakom \u010dvoru postavlja osjetilo `NeighborsSensor` \u010dijim o\u010ditanjem \u010dvor u svakom trenutku mo\u017ee 'o\u010ditati' svoje susjede."
     ]
    },
    {
     "cell_type": "markdown",
     "metadata": {},
     "source": [
      "### Aktuatori\n",
      "\n",
      "U planu, uklju\u010duje mobilne \u010dvorove, kinemati\u010dki model, dinami\u010dke grafove."
     ]
    },
    {
     "cell_type": "markdown",
     "metadata": {},
     "source": [
      "### Simulacija\n",
      "\n",
      "Klasa `Simulation` se brine za izvr\u0161avanje algoritma u pripadaju\u0107oj mre\u017ei `Simulation.network`.\n",
      "\n",
      "Izme\u0111u ostalog, brine se i za osvje\u017eavanje grafi\u010dkog su\u010delja simulatora. \n",
      "\n",
      "<!--- Definirana je kao dretva (*thread*) odnosno podklasa od klase `QtCore.QThread` paketa Pyside.\n",
      "-->"
     ]
    },
    {
     "cell_type": "markdown",
     "metadata": {},
     "source": [
      "### Postavke\n",
      "\n",
      "Kako bi rad u interaktivnoj konzoli, grafi\u010dkom su\u010delji ili u automatiziranim eksperimentima bio olak\u0161an potrebno je preddefinirati odre\u0111ene vrijednosti. Takve vrijednosti definiraju se u postavkama `pymote.conf.settings`.\n",
      "\n",
      "Trenutne globalne postavke:"
     ]
    },
    {
     "cell_type": "code",
     "collapsed": false,
     "input": [
      "%load '/home/ubuntu/bmo_env/src/pymote/pymote/conf/global_settings.py'"
     ],
     "language": "python",
     "metadata": {},
     "outputs": []
    },
    {
     "cell_type": "code",
     "collapsed": false,
     "input": [
      "\"\"\"Default pymote settings.\n",
      "\n",
      "Override these with settings in the module pointed-to by the \n",
      "PYMOTE_SETTINGS_MODULE environment variable or by using \n",
      "settings.configure(**settings) or settings.load('path.to.settings')\n",
      "\n",
      "\"\"\"\n",
      "\n",
      "import scipy.stats \n",
      "from numpy import pi\n",
      "\n",
      "###########\n",
      "# NETWORK #\n",
      "###########\n",
      "ENVIRONMENT = 'Environment2D'\n",
      "ENVIRONMENT2D_SHAPE = (600,600)\n",
      "\n",
      "\n",
      "ALGORITHMS = ()\n",
      "#ALGORITHMS = ((ReadSensors,\n",
      "#               {'sensorReadingsKey':'sensorReadings'}),\n",
      "#              )\n",
      "\n",
      "CHANNEL_TYPE = 'Udg'\n",
      "\n",
      "\n",
      "\n",
      "\n",
      "##########\n",
      "#  NODE  #\n",
      "##########\n",
      "SENSORS = ('NeighborsSensor')\n",
      "#SENSORS = ('AoASensor','DistSensor')\n",
      "ACTUATORS = ()\n",
      "COMM_RANGE = 100\n",
      "\n",
      "AOA_PF_PARAMS = {'pf': scipy.stats.norm,\n",
      "                 'scale':10*pi/180} # in radians\n",
      "DIST_PF_PARAMS = {'pf': scipy.stats.norm,\n",
      "                 'scale':10}\n"
     ],
     "language": "python",
     "metadata": {},
     "outputs": []
    },
    {
     "cell_type": "markdown",
     "metadata": {},
     "source": [
      "Postavke se mogu promijeniti odnosno prepisati (*override*-ati) na nekoliko na\u010dina:\n",
      "\n",
      "* pisanjem novog modula settings.py na kojeg se referencira *environment* varijabla PYMOTE_SETTINGS_MODULE u npr. 'paket.podpaket.settings'\n",
      "* prije prvog kori\u0161tenja postavki one se mogu promijeniti kori\u0161tenjem settings.configure(**settings) ili\n",
      "* kori\u0161tenjem settings.load('paket.podpaket.settings') u bilo kojem trenutku"
     ]
    },
    {
     "cell_type": "markdown",
     "metadata": {},
     "source": [
      "## Teme za doma\u0107u zada\u0107u:\n",
      "\n",
      "1. **Pervan**: Shout, MultiShout\n",
      "2. **Vidovi\u0107**: DF_Traversal: centralizirani i raspodijeljeni\n",
      "3. **Kegalj**: DF*\n",
      "4. **Grbac**: SmartTraversal: Shout+ i DF_Traversal\n",
      "5. **Frantal**: TD_Cast: Flood with reply i Convergecast\n",
      "6. **Barak**: FullSaturation primjenjen na Minimum finding i Average\n",
      "7. **Tuhtan**: FullSaturation primjenjen na Eccentricities i Center finding\n",
      "\n",
      "\n",
      "Napomene:\n",
      "\n",
      "* Projekt voditi na githubu ili bitbucketu (podijeliti prisup repozitoriju, ako je privatni)\n",
      "* *checkpoint* idu\u0107i tjedan, prezentacije za dva tjedna, \n",
      "* Pripremiti IPython notebookove i/ili simulacije u GUI-u."
     ]
    },
    {
     "cell_type": "markdown",
     "metadata": {},
     "source": [
      "Za version control na githubu i bitbucketu se koriste slijede\u0107i sustavi:\n",
      "\n",
      "### Mercurial\n",
      "\n",
      "http://hginit.com/\n",
      "\n",
      "### Git\n",
      "\n",
      "http://nakedstartup.com/2010/04/simple-daily-git-workflow"
     ]
    },
    {
     "cell_type": "markdown",
     "metadata": {},
     "source": [
      "### Distribucija paketa (opcija)\n",
      "\n",
      "http://docs.python.org/2/distutils/index.html#distutils-index\n",
      "\n",
      "### Windows\n",
      "\n",
      "U datoteci ``C:\\Users\\<user>\\.pypirc``:\n",
      "\n",
      "    [distutils]\n",
      "    index-servers =\n",
      "        pypi\n",
      "\n",
      "    [pypi]\n",
      "    repository: http://pypi.python.org/pypi\n",
      "    username: <username>\n",
      "    password: <password>\n",
      "\n",
      "    [server-login]\n",
      "    repository: http://pypi.python.org/pypi\n",
      "    username: <username>\n",
      "    password: <password>\n",
      "\n",
      "Za distribuciju pokrenuti slijede\u0107e naredbe:\n",
      "\n",
      "    > setx HOME C:\\Users\\<user>\n",
      "    > python setup.py sdist upload register"
     ]
    },
    {
     "cell_type": "markdown",
     "metadata": {},
     "source": [
      "## GUI\n",
      "\n",
      "Grafi\u010dko su\u010delje simulatora pokre\u0107e se:\n",
      "\n",
      "1. u *standalone* verziji kori\u0161tenjem instaliranog programa `pymote-simgui`\n",
      "2. iz interaktivne konzole sa `%run pymote/gui/simulationgui.py`\n",
      "\n",
      "Prednost druge metode je u tome \u0161to se paralelno sa su\u010deljem u konzoli mo\u017ee pristupiti svim objektima koriste\u0107i objekt `simgui` npr. `simgui.network` predstavlja mre\u017eu koja je trenutno u su\u010delju."
     ]
    }
   ],
   "metadata": {}
  }
 ]
}