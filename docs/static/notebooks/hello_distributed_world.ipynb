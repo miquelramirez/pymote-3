{
 "metadata": {
  "name": "Hello distributed world"
 },
 "nbformat": 3,
 "nbformat_minor": 0,
 "worksheets": [
  {
   "cells": [
    {
     "cell_type": "markdown",
     "metadata": {},
     "source": [
      "# 'Hello distributed world'\n",
      "\n",
      "The goal of this tutorial is to setup a simulation and run it by using minimal example."
     ]
    },
    {
     "cell_type": "code",
     "collapsed": false,
     "input": [
      "from pymote import *\n",
      "net_gen = NetworkGenerator(100)\n",
      "net = net_gen.generate_random_network()\n",
      "from pymote.algorithms.broadcast import Flood\n",
      "net.algorithms = ( (Flood, {'informationKey':'I'}), )\n",
      "some_node = net.nodes()[0]\n",
      "some_node.memory['I'] = 'Hello distributed world'\n",
      "sim = Simulation(net)\n",
      "sim.run()"
     ],
     "language": "python",
     "metadata": {},
     "outputs": [
      {
       "output_type": "stream",
       "stream": "stdout",
       "text": [
        "WARNING  [__init__.py]: Environment variable PYMOTE_SETTINGS_MODULE is undefined, using global_settings.\n"
       ]
      },
      {
       "output_type": "stream",
       "stream": "stdout",
       "text": [
        "DEBUG    [simulation.py]: Simulation 0x686af80 created successfully.\n"
       ]
      },
      {
       "output_type": "stream",
       "stream": "stdout",
       "text": [
        "DEBUG    [simulation.py]: [Flood] Step 1 finished\n"
       ]
      },
      {
       "output_type": "stream",
       "stream": "stdout",
       "text": [
        "DEBUG    [simulation.py]: [Flood] Step 2 finished\n"
       ]
      },
      {
       "output_type": "stream",
       "stream": "stdout",
       "text": [
        "DEBUG    [simulation.py]: [Flood] Step 3 finished\n"
       ]
      },
      {
       "output_type": "stream",
       "stream": "stdout",
       "text": [
        "DEBUG    [simulation.py]: [Flood] Step 4 finished\n"
       ]
      },
      {
       "output_type": "stream",
       "stream": "stdout",
       "text": [
        "DEBUG    [simulation.py]: [Flood] Step 5 finished\n"
       ]
      },
      {
       "output_type": "stream",
       "stream": "stdout",
       "text": [
        "DEBUG    [simulation.py]: [Flood] Step 6 finished\n"
       ]
      },
      {
       "output_type": "stream",
       "stream": "stdout",
       "text": [
        "DEBUG    [simulation.py]: [Flood] Step 7 finished\n"
       ]
      },
      {
       "output_type": "stream",
       "stream": "stdout",
       "text": [
        "DEBUG    [simulation.py]: [Flood] Step 8 finished\n"
       ]
      },
      {
       "output_type": "stream",
       "stream": "stdout",
       "text": [
        "DEBUG    [simulation.py]: [Flood] Step 9 finished\n"
       ]
      },
      {
       "output_type": "stream",
       "stream": "stdout",
       "text": [
        "DEBUG    [simulation.py]: [Flood] Step 10 finished\n"
       ]
      },
      {
       "output_type": "stream",
       "stream": "stdout",
       "text": [
        "DEBUG    [simulation.py]: [Flood] Step 11 finished\n"
       ]
      },
      {
       "output_type": "stream",
       "stream": "stdout",
       "text": [
        "DEBUG    [simulation.py]: [Flood] Step 12 finished\n"
       ]
      },
      {
       "output_type": "stream",
       "stream": "stdout",
       "text": [
        "DEBUG    [simulation.py]: [Flood] Step 13 finished\n"
       ]
      },
      {
       "output_type": "stream",
       "stream": "stdout",
       "text": [
        "DEBUG    [simulation.py]: [Flood] Step 14 finished\n"
       ]
      },
      {
       "output_type": "stream",
       "stream": "stdout",
       "text": [
        "DEBUG    [simulation.py]: [Flood] Step 15 finished\n"
       ]
      },
      {
       "output_type": "stream",
       "stream": "stdout",
       "text": [
        "DEBUG    [simulation.py]: [Flood] Step 16 finished\n"
       ]
      },
      {
       "output_type": "stream",
       "stream": "stdout",
       "text": [
        "DEBUG    [simulation.py]: [Flood] Step 17 finished\n"
       ]
      },
      {
       "output_type": "stream",
       "stream": "stdout",
       "text": [
        "DEBUG    [simulation.py]: [Flood] Step 18 finished\n"
       ]
      },
      {
       "output_type": "stream",
       "stream": "stdout",
       "text": [
        "DEBUG    [simulation.py]: [Flood] Step 19 finished\n"
       ]
      },
      {
       "output_type": "stream",
       "stream": "stdout",
       "text": [
        "DEBUG    [simulation.py]: [Flood] Step 20 finished\n"
       ]
      },
      {
       "output_type": "stream",
       "stream": "stdout",
       "text": [
        "DEBUG    [simulation.py]: [Flood] Step 21 finished\n"
       ]
      },
      {
       "output_type": "stream",
       "stream": "stdout",
       "text": [
        "DEBUG    [simulation.py]: [Flood] Step 22 finished\n"
       ]
      },
      {
       "output_type": "stream",
       "stream": "stdout",
       "text": [
        "DEBUG    [simulation.py]: [Flood] Step 23 finished\n"
       ]
      },
      {
       "output_type": "stream",
       "stream": "stdout",
       "text": [
        "DEBUG    [simulation.py]: [Flood] Step 24 finished\n"
       ]
      },
      {
       "output_type": "stream",
       "stream": "stdout",
       "text": [
        "DEBUG    [simulation.py]: [Flood] Step 25 finished\n"
       ]
      },
      {
       "output_type": "stream",
       "stream": "stdout",
       "text": [
        "DEBUG    [simulation.py]: [Flood] Algorithm finished\n"
       ]
      },
      {
       "output_type": "stream",
       "stream": "stdout",
       "text": [
        "INFO     [simulation.py]: Simulation has finished. There are no algorithms left to run. To run it from the start use sim.reset().\n"
       ]
      }
     ],
     "prompt_number": 1
    },
    {
     "cell_type": "markdown",
     "metadata": {},
     "source": [
      "That's it! For more elaborate description please continue reading."
     ]
    },
    {
     "cell_type": "markdown",
     "metadata": {},
     "source": [
      "In the example given above, the goal was to simulate distributed algorithm `Flood` on arbitrary network. Algorithm `Flood` solves *Broadcast* problem, i.e. the goal of the algorithm is to share information that is present in one or more nodes to all other nodes in the network."
     ]
    },
    {
     "cell_type": "markdown",
     "metadata": {},
     "source": [
      "In this example the IPython interactive console is started with `ipymote` or `ipython --profile=pymote`. This way certain names from Pymote package should already be available such as `Node` or `Network`."
     ]
    },
    {
     "cell_type": "markdown",
     "metadata": {},
     "source": [
      "### Generating network\n",
      "\n",
      "Networks are fundamental objects in the Pymote and they can be created by instantiating `Network` class or by using  `NetworkGenerator` class. `NetworkGenerator` can receive different parameters such as number of nodes (exact, min, max), average number of neighbors per node etc.\n",
      "\n",
      "In this example the only parametar that we want to have in control is number of nodes. which is set to 100."
     ]
    },
    {
     "cell_type": "code",
     "collapsed": false,
     "input": [
      "net_gen = NetworkGenerator(100)"
     ],
     "language": "python",
     "metadata": {},
     "outputs": [],
     "prompt_number": 2
    },
    {
     "cell_type": "markdown",
     "metadata": {},
     "source": [
      "Now generator's methods can be used to generate new networks with specified parameters, i.e. for generating network with random placement of nodes there is method `generate_random_network()`:"
     ]
    },
    {
     "cell_type": "code",
     "collapsed": false,
     "input": [
      "net = net_gen.generate_random_network()"
     ],
     "language": "python",
     "metadata": {},
     "outputs": [],
     "prompt_number": 3
    },
    {
     "cell_type": "markdown",
     "metadata": {},
     "source": [
      "*Note:* One of the `NetworkGenerator` parameters control if the generated network should be connected (which means  there are no isolated segments of the network). This parameter `connected` is by default set to `True` so if the number of nodes is set too low then some generator's methods  might not be able to produce the network."
     ]
    },
    {
     "cell_type": "markdown",
     "metadata": {},
     "source": [
      "The result is instance of the Network class:"
     ]
    },
    {
     "cell_type": "code",
     "collapsed": false,
     "input": [
      "net"
     ],
     "language": "python",
     "metadata": {},
     "outputs": [
      {
       "output_type": "pyout",
       "prompt_number": 4,
       "text": [
        "<pymote.network.Network at 0x671ac90>"
       ]
      }
     ],
     "prompt_number": 4
    },
    {
     "cell_type": "markdown",
     "metadata": {},
     "source": [
      "which can be visualized with its `show()` method:"
     ]
    },
    {
     "cell_type": "code",
     "collapsed": false,
     "input": [
      "net.show()"
     ],
     "language": "python",
     "metadata": {},
     "outputs": [
      {
       "output_type": "display_data",
       "png": "[encoded data removed]"
      }
     ],
     "prompt_number": 5
    },
    {
     "cell_type": "markdown",
     "metadata": {},
     "source": [
      "### Algorithm\n",
      "\n",
      "Algorithm `Flood` is part of the `broadcast` module so it should be imported:"
     ]
    },
    {
     "cell_type": "code",
     "collapsed": false,
     "input": [
      "from pymote.algorithms.broadcast import Flood"
     ],
     "language": "python",
     "metadata": {},
     "outputs": [],
     "prompt_number": 6
    },
    {
     "cell_type": "markdown",
     "metadata": {},
     "source": [
      "and then assigned to the generated network:"
     ]
    },
    {
     "cell_type": "code",
     "collapsed": false,
     "input": [
      "net.algorithms = ( (Flood, {'informationKey':'I'}), )"
     ],
     "language": "python",
     "metadata": {},
     "outputs": [],
     "prompt_number": 7
    },
    {
     "cell_type": "markdown",
     "metadata": {},
     "source": [
      "Two things should be noted:\n",
      "\n",
      "* there can be multiple algorithms that are being assigned to the network so specific algorithms are elements of `tuple`. Since in this example there is only one algorithm we must append `,` so that Python knows it's a one element `tuple` i.e. `(1)` is `int`, but `(1,)` is `tuple`.\n",
      "* every algorithm element is `tuple` itself, consisting of two elements. Former is an algorithm class, in this example `Flood`. Later is a `dict` of keyword parameters, i.e. `Flood` must be given 'informationKey' as a required parameter: that is the name of the key under which the nodes should store broadcasted information in their memory.\n"
     ]
    },
    {
     "cell_type": "markdown",
     "metadata": {},
     "source": [
      "This algorithm demands that at least one node knows information to be broadcasted, so in this example at least one node should have some value stored under `I` key:"
     ]
    },
    {
     "cell_type": "code",
     "collapsed": false,
     "input": [
      "some_node = net.nodes()[0]                         # take the first node, it can be any node\n",
      "some_node.memory['I'] = 'Hello distributed world'  # under key 'I' write the information to be boradcasted"
     ],
     "language": "python",
     "metadata": {},
     "outputs": [],
     "prompt_number": 8
    },
    {
     "cell_type": "markdown",
     "metadata": {},
     "source": [
      " This way `some_node` has become algorithm initiator."
     ]
    },
    {
     "cell_type": "markdown",
     "metadata": {},
     "source": [
      "### Simulation\n",
      "\n",
      "After network creation and setup all that is left to do is to create and run simulation. Every simulation has its own network (sent as parameter) that it runs on:"
     ]
    },
    {
     "cell_type": "code",
     "collapsed": false,
     "input": [
      "sim = Simulation(net)"
     ],
     "language": "python",
     "metadata": {},
     "outputs": [
      {
       "output_type": "stream",
       "stream": "stdout",
       "text": [
        "DEBUG    [simulation.py]: Simulation 0x6a12788 created successfully.\n"
       ]
      }
     ],
     "prompt_number": 9
    },
    {
     "cell_type": "markdown",
     "metadata": {},
     "source": [
      "Finally, run simulation:"
     ]
    },
    {
     "cell_type": "code",
     "collapsed": false,
     "input": [
      "sim.run()"
     ],
     "language": "python",
     "metadata": {},
     "outputs": [
      {
       "output_type": "stream",
       "stream": "stdout",
       "text": [
        "DEBUG    [simulation.py]: [Flood] Step 1 finished\n"
       ]
      },
      {
       "output_type": "stream",
       "stream": "stdout",
       "text": [
        "DEBUG    [simulation.py]: [Flood] Step 2 finished\n"
       ]
      },
      {
       "output_type": "stream",
       "stream": "stdout",
       "text": [
        "DEBUG    [simulation.py]: [Flood] Step 3 finished\n"
       ]
      },
      {
       "output_type": "stream",
       "stream": "stdout",
       "text": [
        "DEBUG    [simulation.py]: [Flood] Step 4 finished\n"
       ]
      },
      {
       "output_type": "stream",
       "stream": "stdout",
       "text": [
        "DEBUG    [simulation.py]: [Flood] Step 5 finished\n"
       ]
      },
      {
       "output_type": "stream",
       "stream": "stdout",
       "text": [
        "DEBUG    [simulation.py]: [Flood] Step 6 finished\n"
       ]
      },
      {
       "output_type": "stream",
       "stream": "stdout",
       "text": [
        "DEBUG    [simulation.py]: [Flood] Step 7 finished\n"
       ]
      },
      {
       "output_type": "stream",
       "stream": "stdout",
       "text": [
        "DEBUG    [simulation.py]: [Flood] Step 8 finished\n"
       ]
      },
      {
       "output_type": "stream",
       "stream": "stdout",
       "text": [
        "DEBUG    [simulation.py]: [Flood] Step 9 finished\n"
       ]
      },
      {
       "output_type": "stream",
       "stream": "stdout",
       "text": [
        "DEBUG    [simulation.py]: [Flood] Step 10 finished\n"
       ]
      },
      {
       "output_type": "stream",
       "stream": "stdout",
       "text": [
        "DEBUG    [simulation.py]: [Flood] Step 11 finished\n"
       ]
      },
      {
       "output_type": "stream",
       "stream": "stdout",
       "text": [
        "DEBUG    [simulation.py]: [Flood] Step 12 finished\n"
       ]
      },
      {
       "output_type": "stream",
       "stream": "stdout",
       "text": [
        "DEBUG    [simulation.py]: [Flood] Step 13 finished\n"
       ]
      },
      {
       "output_type": "stream",
       "stream": "stdout",
       "text": [
        "DEBUG    [simulation.py]: [Flood] Step 14 finished\n"
       ]
      },
      {
       "output_type": "stream",
       "stream": "stdout",
       "text": [
        "DEBUG    [simulation.py]: [Flood] Step 15 finished\n"
       ]
      },
      {
       "output_type": "stream",
       "stream": "stdout",
       "text": [
        "DEBUG    [simulation.py]: [Flood] Step 16 finished\n"
       ]
      },
      {
       "output_type": "stream",
       "stream": "stdout",
       "text": [
        "DEBUG    [simulation.py]: [Flood] Step 17 finished\n"
       ]
      },
      {
       "output_type": "stream",
       "stream": "stdout",
       "text": [
        "DEBUG    [simulation.py]: [Flood] Step 18 finished\n"
       ]
      },
      {
       "output_type": "stream",
       "stream": "stdout",
       "text": [
        "DEBUG    [simulation.py]: [Flood] Step 19 finished\n"
       ]
      },
      {
       "output_type": "stream",
       "stream": "stdout",
       "text": [
        "DEBUG    [simulation.py]: [Flood] Step 20 finished\n"
       ]
      },
      {
       "output_type": "stream",
       "stream": "stdout",
       "text": [
        "DEBUG    [simulation.py]: [Flood] Step 21 finished\n"
       ]
      },
      {
       "output_type": "stream",
       "stream": "stdout",
       "text": [
        "DEBUG    [simulation.py]: [Flood] Step 22 finished\n"
       ]
      },
      {
       "output_type": "stream",
       "stream": "stdout",
       "text": [
        "DEBUG    [simulation.py]: [Flood] Step 23 finished\n"
       ]
      },
      {
       "output_type": "stream",
       "stream": "stdout",
       "text": [
        "DEBUG    [simulation.py]: [Flood] Step 24 finished\n"
       ]
      },
      {
       "output_type": "stream",
       "stream": "stdout",
       "text": [
        "DEBUG    [simulation.py]: [Flood] Step 25 finished\n"
       ]
      },
      {
       "output_type": "stream",
       "stream": "stdout",
       "text": [
        "DEBUG    [simulation.py]: [Flood] Step 26 finished\n"
       ]
      },
      {
       "output_type": "stream",
       "stream": "stdout",
       "text": [
        "DEBUG    [simulation.py]: [Flood] Step 27 finished\n"
       ]
      },
      {
       "output_type": "stream",
       "stream": "stdout",
       "text": [
        "DEBUG    [simulation.py]: [Flood] Step 28 finished\n"
       ]
      },
      {
       "output_type": "stream",
       "stream": "stdout",
       "text": [
        "DEBUG    [simulation.py]: [Flood] Algorithm finished\n"
       ]
      },
      {
       "output_type": "stream",
       "stream": "stdout",
       "text": [
        "INFO     [simulation.py]: Simulation has finished. There are no algorithms left to run. To run it from the start use sim.reset().\n"
       ]
      }
     ],
     "prompt_number": 10
    },
    {
     "cell_type": "markdown",
     "metadata": {},
     "source": [
      "After the algorithm(s) execution is done we can check if the resullt is as expected, that is every node should have information in their memory:"
     ]
    },
    {
     "cell_type": "code",
     "collapsed": false,
     "input": [
      "for node in net.nodes():\n",
      "    print node.memory['I'],"
     ],
     "language": "python",
     "metadata": {},
     "outputs": [
      {
       "output_type": "stream",
       "stream": "stdout",
       "text": [
        "Hello distributed world Hello distributed world Hello distributed world Hello distributed world Hello distributed world Hello distributed world Hello distributed world Hello distributed world Hello distributed world Hello distributed world Hello distributed world Hello distributed world Hello distributed world Hello distributed world Hello distributed world Hello distributed world Hello distributed world Hello distributed world Hello distributed world Hello distributed world Hello distributed world Hello distributed world Hello distributed world Hello distributed world Hello distributed world Hello distributed world Hello distributed world Hello distributed world Hello distributed world Hello distributed world Hello distributed world Hello distributed world Hello distributed world Hello distributed world Hello distributed world Hello distributed world Hello distributed world Hello distributed world Hello distributed world Hello distributed world Hello distributed world Hello distributed world Hello distributed world Hello distributed world Hello distributed world Hello distributed world Hello distributed world Hello distributed world Hello distributed world Hello distributed world Hello distributed world Hello distributed world Hello distributed world Hello distributed world Hello distributed world Hello distributed world Hello distributed world Hello distributed world Hello distributed world Hello distributed world Hello distributed world Hello distributed world Hello distributed world Hello distributed world Hello distributed world Hello distributed world Hello distributed world Hello distributed world Hello distributed world Hello distributed world Hello distributed world Hello distributed world Hello distributed world Hello distributed world Hello distributed world Hello distributed world Hello distributed world Hello distributed world Hello distributed world Hello distributed world Hello distributed world Hello distributed world Hello distributed world Hello distributed world Hello distributed world Hello distributed world Hello distributed world Hello distributed world Hello distributed world Hello distributed world Hello distributed world Hello distributed world Hello distributed world Hello distributed world Hello distributed world Hello distributed world Hello distributed world Hello distributed world Hello distributed world Hello distributed world\n"
       ]
      }
     ],
     "prompt_number": 11
    },
    {
     "cell_type": "markdown",
     "metadata": {},
     "source": [
      "During simulation execution, network and its nodes are changing their status, memory content etc. To memorize the currently running algorithm and current step of the simulation, network has a special attribute `algorithmsState`:"
     ]
    },
    {
     "cell_type": "code",
     "collapsed": false,
     "input": [
      "net.algorithmState"
     ],
     "language": "python",
     "metadata": {},
     "outputs": [
      {
       "output_type": "pyout",
       "prompt_number": 12,
       "text": [
        "{'finished': True, 'index': 0, 'step': 29}"
       ]
      }
     ],
     "prompt_number": 12
    },
    {
     "cell_type": "markdown",
     "metadata": {},
     "source": [
      "If simulation is going to be run again, it must be reset:"
     ]
    },
    {
     "cell_type": "code",
     "collapsed": false,
     "input": [
      "sim.reset()"
     ],
     "language": "python",
     "metadata": {},
     "outputs": [
      {
       "output_type": "stream",
       "stream": "stdout",
       "text": [
        "INFO     [simulation.py]: Resetting simulation.\n"
       ]
      }
     ],
     "prompt_number": 13
    },
    {
     "cell_type": "markdown",
     "metadata": {},
     "source": [
      "whereby:\n",
      "\n",
      "* `algorithmState` is returned to the initial value:"
     ]
    },
    {
     "cell_type": "code",
     "collapsed": false,
     "input": [
      "net.algorithmState"
     ],
     "language": "python",
     "metadata": {},
     "outputs": [
      {
       "output_type": "pyout",
       "prompt_number": 14,
       "text": [
        "{'finished': False, 'index': 0, 'step': 1}"
       ]
      }
     ],
     "prompt_number": 14
    },
    {
     "cell_type": "markdown",
     "metadata": {},
     "source": [
      "* memory content of all node's is deleted (as long as some other attributes)"
     ]
    },
    {
     "cell_type": "code",
     "collapsed": false,
     "input": [
      "for node in net.nodes():\n",
      "    print node.memory,"
     ],
     "language": "python",
     "metadata": {},
     "outputs": [
      {
       "output_type": "stream",
       "stream": "stdout",
       "text": [
        "{} {} {} {} {} {} {} {} {} {} {} {} {} {} {} {} {} {} {} {} {} {} {} {} {} {} {} {} {} {} {} {} {} {} {} {} {} {} {} {} {} {} {} {} {} {} {} {} {} {} {} {} {} {} {} {} {} {} {} {} {} {} {} {} {} {} {} {} {} {} {} {} {} {} {} {} {} {} {} {} {} {} {} {} {} {} {} {} {} {} {} {} {} {} {} {} {} {} {} {}\n"
       ]
      }
     ],
     "prompt_number": 15
    },
    {
     "cell_type": "code",
     "collapsed": false,
     "input": [
      "some_node.memory['I'] = 'Hello again'\n",
      "sim.run()"
     ],
     "language": "python",
     "metadata": {},
     "outputs": [
      {
       "output_type": "stream",
       "stream": "stdout",
       "text": [
        "DEBUG    [simulation.py]: [Flood] Step 1 finished\n"
       ]
      },
      {
       "output_type": "stream",
       "stream": "stdout",
       "text": [
        "DEBUG    [simulation.py]: [Flood] Step 2 finished\n"
       ]
      },
      {
       "output_type": "stream",
       "stream": "stdout",
       "text": [
        "DEBUG    [simulation.py]: [Flood] Step 3 finished\n"
       ]
      },
      {
       "output_type": "stream",
       "stream": "stdout",
       "text": [
        "DEBUG    [simulation.py]: [Flood] Step 4 finished\n"
       ]
      },
      {
       "output_type": "stream",
       "stream": "stdout",
       "text": [
        "DEBUG    [simulation.py]: [Flood] Step 5 finished\n"
       ]
      },
      {
       "output_type": "stream",
       "stream": "stdout",
       "text": [
        "DEBUG    [simulation.py]: [Flood] Step 6 finished\n"
       ]
      },
      {
       "output_type": "stream",
       "stream": "stdout",
       "text": [
        "DEBUG    [simulation.py]: [Flood] Step 7 finished\n"
       ]
      },
      {
       "output_type": "stream",
       "stream": "stdout",
       "text": [
        "DEBUG    [simulation.py]: [Flood] Step 8 finished\n"
       ]
      },
      {
       "output_type": "stream",
       "stream": "stdout",
       "text": [
        "DEBUG    [simulation.py]: [Flood] Step 9 finished\n"
       ]
      },
      {
       "output_type": "stream",
       "stream": "stdout",
       "text": [
        "DEBUG    [simulation.py]: [Flood] Step 10 finished\n"
       ]
      },
      {
       "output_type": "stream",
       "stream": "stdout",
       "text": [
        "DEBUG    [simulation.py]: [Flood] Step 11 finished\n"
       ]
      },
      {
       "output_type": "stream",
       "stream": "stdout",
       "text": [
        "DEBUG    [simulation.py]: [Flood] Step 12 finished\n"
       ]
      },
      {
       "output_type": "stream",
       "stream": "stdout",
       "text": [
        "DEBUG    [simulation.py]: [Flood] Step 13 finished\n"
       ]
      },
      {
       "output_type": "stream",
       "stream": "stdout",
       "text": [
        "DEBUG    [simulation.py]: [Flood] Step 14 finished\n"
       ]
      },
      {
       "output_type": "stream",
       "stream": "stdout",
       "text": [
        "DEBUG    [simulation.py]: [Flood] Step 15 finished\n"
       ]
      },
      {
       "output_type": "stream",
       "stream": "stdout",
       "text": [
        "DEBUG    [simulation.py]: [Flood] Step 16 finished\n"
       ]
      },
      {
       "output_type": "stream",
       "stream": "stdout",
       "text": [
        "DEBUG    [simulation.py]: [Flood] Step 17 finished\n"
       ]
      },
      {
       "output_type": "stream",
       "stream": "stdout",
       "text": [
        "DEBUG    [simulation.py]: [Flood] Step 18 finished\n"
       ]
      },
      {
       "output_type": "stream",
       "stream": "stdout",
       "text": [
        "DEBUG    [simulation.py]: [Flood] Step 19 finished\n"
       ]
      },
      {
       "output_type": "stream",
       "stream": "stdout",
       "text": [
        "DEBUG    [simulation.py]: [Flood] Step 20 finished\n"
       ]
      },
      {
       "output_type": "stream",
       "stream": "stdout",
       "text": [
        "DEBUG    [simulation.py]: [Flood] Step 21 finished\n"
       ]
      },
      {
       "output_type": "stream",
       "stream": "stdout",
       "text": [
        "DEBUG    [simulation.py]: [Flood] Step 22 finished\n"
       ]
      },
      {
       "output_type": "stream",
       "stream": "stdout",
       "text": [
        "DEBUG    [simulation.py]: [Flood] Step 23 finished\n"
       ]
      },
      {
       "output_type": "stream",
       "stream": "stdout",
       "text": [
        "DEBUG    [simulation.py]: [Flood] Step 24 finished\n"
       ]
      },
      {
       "output_type": "stream",
       "stream": "stdout",
       "text": [
        "DEBUG    [simulation.py]: [Flood] Step 25 finished\n"
       ]
      },
      {
       "output_type": "stream",
       "stream": "stdout",
       "text": [
        "DEBUG    [simulation.py]: [Flood] Step 26 finished\n"
       ]
      },
      {
       "output_type": "stream",
       "stream": "stdout",
       "text": [
        "DEBUG    [simulation.py]: [Flood] Step 27 finished\n"
       ]
      },
      {
       "output_type": "stream",
       "stream": "stdout",
       "text": [
        "DEBUG    [simulation.py]: [Flood] Step 28 finished\n"
       ]
      },
      {
       "output_type": "stream",
       "stream": "stdout",
       "text": [
        "DEBUG    [simulation.py]: [Flood] Algorithm finished\n"
       ]
      },
      {
       "output_type": "stream",
       "stream": "stdout",
       "text": [
        "INFO     [simulation.py]: Simulation has finished. There are no algorithms left to run. To run it from the start use sim.reset().\n"
       ]
      }
     ],
     "prompt_number": 16
    }
   ],
   "metadata": {}
  }
 ]
}