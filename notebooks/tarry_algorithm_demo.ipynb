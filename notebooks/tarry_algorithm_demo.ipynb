{
 "cells": [
  {
   "cell_type": "markdown",
   "metadata": {},
   "source": [
    "# Distributed Traversal Algorithms: Tarry's Algorithm"
   ]
  },
  {
   "cell_type": "code",
   "execution_count": 1,
   "metadata": {},
   "outputs": [
    {
     "name": "stdout",
     "output_type": "stream",
     "text": [
      "WARNING [__init__.py]: Environment variable PYMOTE_SETTINGS_MODULE is undefined, using global_settings.\n"
     ]
    }
   ],
   "source": [
    "from pymote import *\n",
    "net_gen = NetworkGenerator(5)\n",
    "net = net_gen.generate_random_network()"
   ]
  },
  {
   "cell_type": "code",
   "execution_count": 2,
   "metadata": {},
   "outputs": [],
   "source": [
    "from pymote.algorithms.traversals import Tarry\n",
    "net.algorithms = ( (Tarry, {'initiator': 'initiator'}), )"
   ]
  },
  {
   "cell_type": "code",
   "execution_count": 3,
   "metadata": {},
   "outputs": [
    {
     "name": "stdout",
     "output_type": "stream",
     "text": [
      "DEBUG   [simulation.py]: Simulation 0x7fe429394808 created successfully.\n",
      "Node(id=3,z=574.4847095722341)\n",
      "Node(id=2,z=933.876707977358)\n",
      "Node(id=1,z=367.43478313073666)\n",
      "Node(id=5,z=531.3262134906379)\n",
      "Node(id=4,z=620.116678796435)\n",
      "DEBUG   [simulation.py]: [Tarry] Step 1 finished\n",
      "Node(id=1) is initator, sends token...\n",
      "DEBUG   [simulation.py]: [Tarry] Step 2 finished\n",
      "DEBUG   [simulation.py]: [Tarry] Step 3 finished\n",
      "Node(id=3) receives token...\n",
      "DEBUG   [simulation.py]: [Tarry] Step 4 finished\n",
      "DEBUG   [simulation.py]: [Tarry] Step 5 finished\n",
      "Node(id=2) receives token...\n",
      "DEBUG   [simulation.py]: [Tarry] Step 6 finished\n",
      "DEBUG   [simulation.py]: [Tarry] Step 7 finished\n",
      "Node(id=3) receives token...\n",
      "DEBUG   [simulation.py]: [Tarry] Step 8 finished\n",
      "DEBUG   [simulation.py]: [Tarry] Step 9 finished\n",
      "Node(id=1) receives token...\n",
      "Decision: z=933.876707977358 m\n",
      "DEBUG   [simulation.py]: [Tarry] Step 10 finished\n",
      "DEBUG   [simulation.py]: [Tarry] Algorithm finished\n",
      "INFO    [simulation.py]: Simulation has finished. There are no algorithms left to run. To run it from the start use sim.reset().\n"
     ]
    }
   ],
   "source": [
    "some_node = net.nodelist()[0]\n",
    "some_node.memory['initiator'] = True\n",
    "sim = Simulation(net)\n",
    "sim.run()"
   ]
  },
  {
   "cell_type": "code",
   "execution_count": null,
   "metadata": {},
   "outputs": [],
   "source": []
  }
 ],
 "metadata": {
  "kernelspec": {
   "display_name": "Python 3",
   "language": "python",
   "name": "python3"
  },
  "language_info": {
   "codemirror_mode": {
    "name": "ipython",
    "version": 3
   },
   "file_extension": ".py",
   "mimetype": "text/x-python",
   "name": "python",
   "nbconvert_exporter": "python",
   "pygments_lexer": "ipython3",
   "version": "3.5.2"
  }
 },
 "nbformat": 4,
 "nbformat_minor": 2
}
