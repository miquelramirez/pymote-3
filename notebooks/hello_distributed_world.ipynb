{
 "cells": [
  {
   "cell_type": "markdown",
   "metadata": {},
   "source": [
    "# 'Hello distributed world'\n",
    "\n",
    "The goal of this tutorial is to setup a simulation and run it by using minimal example."
   ]
  },
  {
   "cell_type": "code",
   "execution_count": 1,
   "metadata": {},
   "outputs": [
    {
     "name": "stdout",
     "output_type": "stream",
     "text": [
      "WARNING [__init__.py]: Environment variable PYMOTE_SETTINGS_MODULE is undefined, using global_settings.\n"
     ]
    }
   ],
   "source": [
    "from pymote import *\n",
    "net_gen = NetworkGenerator(100)\n",
    "net = net_gen.generate_random_network()"
   ]
  },
  {
   "cell_type": "code",
   "execution_count": 2,
   "metadata": {},
   "outputs": [],
   "source": [
    "from pymote.algorithms.broadcast import Flood\n",
    "net.algorithms = ( (Flood, {'informationKey':'I'}), )"
   ]
  },
  {
   "cell_type": "code",
   "execution_count": 3,
   "metadata": {},
   "outputs": [
    {
     "name": "stdout",
     "output_type": "stream",
     "text": [
      "DEBUG   [simulation.py]: Simulation 0x1a4d6418 created successfully.\n",
      "DEBUG   [simulation.py]: [Flood] Step 1 finished\n",
      "DEBUG   [simulation.py]: [Flood] Step 2 finished\n",
      "DEBUG   [simulation.py]: [Flood] Step 3 finished\n",
      "DEBUG   [simulation.py]: [Flood] Step 4 finished\n",
      "DEBUG   [simulation.py]: [Flood] Step 5 finished\n",
      "DEBUG   [simulation.py]: [Flood] Step 6 finished\n",
      "DEBUG   [simulation.py]: [Flood] Step 7 finished\n",
      "DEBUG   [simulation.py]: [Flood] Step 8 finished\n",
      "DEBUG   [simulation.py]: [Flood] Step 9 finished\n",
      "DEBUG   [simulation.py]: [Flood] Step 10 finished\n",
      "DEBUG   [simulation.py]: [Flood] Step 11 finished\n",
      "DEBUG   [simulation.py]: [Flood] Step 12 finished\n",
      "DEBUG   [simulation.py]: [Flood] Step 13 finished\n",
      "DEBUG   [simulation.py]: [Flood] Step 14 finished\n",
      "DEBUG   [simulation.py]: [Flood] Step 15 finished\n",
      "DEBUG   [simulation.py]: [Flood] Step 16 finished\n",
      "DEBUG   [simulation.py]: [Flood] Step 17 finished\n",
      "DEBUG   [simulation.py]: [Flood] Step 18 finished\n",
      "DEBUG   [simulation.py]: [Flood] Step 19 finished\n",
      "DEBUG   [simulation.py]: [Flood] Step 20 finished\n",
      "DEBUG   [simulation.py]: [Flood] Step 21 finished\n",
      "DEBUG   [simulation.py]: [Flood] Step 22 finished\n",
      "DEBUG   [simulation.py]: [Flood] Step 23 finished\n",
      "DEBUG   [simulation.py]: [Flood] Step 24 finished\n",
      "DEBUG   [simulation.py]: [Flood] Step 25 finished\n",
      "DEBUG   [simulation.py]: [Flood] Algorithm finished\n",
      "INFO    [simulation.py]: Simulation has finished. There are no algorithms left to run. To run it from the start use sim.reset().\n"
     ]
    }
   ],
   "source": [
    "some_node = net.nodelist()[0]\n",
    "some_node.memory['I'] = 'Hello distributed world'\n",
    "sim = Simulation(net)\n",
    "sim.run()"
   ]
  },
  {
   "cell_type": "markdown",
   "metadata": {},
   "source": [
    "That's it! For more elaborate description please continue reading."
   ]
  },
  {
   "cell_type": "markdown",
   "metadata": {},
   "source": [
    "In the example given above, the goal was to simulate distributed algorithm `Flood` on arbitrary network. Algorithm `Flood` solves *Broadcast* problem, i.e. the goal of the algorithm is to share information that is present in one or more nodes to all other nodes in the network."
   ]
  },
  {
   "cell_type": "markdown",
   "metadata": {},
   "source": [
    "In this example the IPython interactive console is started with `ipymote` or `ipython --profile=pymote`. This way certain names from Pymote package should already be available such as `Node` or `Network`."
   ]
  },
  {
   "cell_type": "markdown",
   "metadata": {},
   "source": [
    "### Generating network\n",
    "\n",
    "Networks are fundamental objects in the Pymote and they can be created by instantiating `Network` class or by using  `NetworkGenerator` class. `NetworkGenerator` can receive different parameters such as number of nodes (exact, min, max), average number of neighbors per node etc.\n",
    "\n",
    "In this example the only parametar that we want to have in control is number of nodes. which is set to 100."
   ]
  },
  {
   "cell_type": "code",
   "execution_count": 4,
   "metadata": {},
   "outputs": [],
   "source": [
    "net_gen = NetworkGenerator(100)"
   ]
  },
  {
   "cell_type": "markdown",
   "metadata": {},
   "source": [
    "Now generator's methods can be used to generate new networks with specified parameters, i.e. for generating network with random placement of nodes there is method `generate_random_network()`:"
   ]
  },
  {
   "cell_type": "code",
   "execution_count": 5,
   "metadata": {},
   "outputs": [],
   "source": [
    "net = net_gen.generate_random_network()"
   ]
  },
  {
   "cell_type": "markdown",
   "metadata": {},
   "source": [
    "*Note:* One of the `NetworkGenerator` parameters control if the generated network should be connected (which means  there are no isolated segments of the network). This parameter `connected` is by default set to `True` so if the number of nodes is set too low then some generator's methods  might not be able to produce the network."
   ]
  },
  {
   "cell_type": "markdown",
   "metadata": {},
   "source": [
    "The result is instance of the Network class:"
   ]
  },
  {
   "cell_type": "code",
   "execution_count": 6,
   "metadata": {},
   "outputs": [
    {
     "data": {
      "text/plain": [
       "<pymote.network.Network at 0x1a4d4ff0>"
      ]
     },
     "execution_count": 6,
     "metadata": {},
     "output_type": "execute_result"
    }
   ],
   "source": [
    "net"
   ]
  },
  {
   "cell_type": "markdown",
   "metadata": {},
   "source": [
    "which can be visualized with its `show()` method:"
   ]
  },
  {
   "cell_type": "code",
   "execution_count": 7,
   "metadata": {},
   "outputs": [
    {
     "name": "stderr",
     "output_type": "stream",
     "text": [
      "C:\\Users\\user\\AppData\\Roaming\\Python\\Python37\\site-packages\\networkx\\drawing\\nx_pylab.py:579: MatplotlibDeprecationWarning: \n",
      "The iterable function was deprecated in Matplotlib 3.1 and will be removed in 3.3. Use np.iterable instead.\n",
      "  if not cb.iterable(width):\n",
      "d:\\sandboxes\\pymote-3\\pymote\\network.py:208: UserWarning: Matplotlib is currently using module://ipykernel.pylab.backend_inline, which is a non-GUI backend, so cannot show the figure.\n",
      "  fig.show()\n"
     ]
    }
   ],
   "source": [
    "net.show()"
   ]
  },
  {
   "cell_type": "markdown",
   "metadata": {},
   "source": [
    "### Algorithm\n",
    "\n",
    "Algorithm `Flood` is part of the `broadcast` module so it should be imported:"
   ]
  },
  {
   "cell_type": "code",
   "execution_count": 8,
   "metadata": {},
   "outputs": [],
   "source": [
    "from pymote.algorithms.broadcast import Flood"
   ]
  },
  {
   "cell_type": "markdown",
   "metadata": {},
   "source": [
    "and then assigned to the generated network:"
   ]
  },
  {
   "cell_type": "code",
   "execution_count": 9,
   "metadata": {},
   "outputs": [],
   "source": [
    "net.algorithms = ( (Flood, {'informationKey':'I'}), )"
   ]
  },
  {
   "cell_type": "markdown",
   "metadata": {},
   "source": [
    "Two things should be noted:\n",
    "\n",
    "* there can be multiple algorithms that are being assigned to the network so specific algorithms are elements of `tuple`. Since in this example there is only one algorithm we must append `,` so that Python knows it's a one element `tuple` i.e. `(1)` is `int`, but `(1,)` is `tuple`.\n",
    "* every algorithm element is `tuple` itself, consisting of two elements. Former is an algorithm class, in this example `Flood`. Later is a `dict` of keyword parameters, i.e. `Flood` must be given 'informationKey' as a required parameter: that is the name of the key under which the nodes should store broadcasted information in their memory.\n"
   ]
  },
  {
   "cell_type": "markdown",
   "metadata": {},
   "source": [
    "This algorithm demands that at least one node knows information to be broadcasted, so in this example at least one node should have some value stored under `I` key:"
   ]
  },
  {
   "cell_type": "code",
   "execution_count": 11,
   "metadata": {},
   "outputs": [],
   "source": [
    "some_node = net.nodelist()[0]                         # take the first node, it can be any node\n",
    "some_node.memory['I'] = 'Hello distributed world'  # under key 'I' write the information to be boradcasted"
   ]
  },
  {
   "cell_type": "markdown",
   "metadata": {},
   "source": [
    " This way `some_node` has become algorithm initiator."
   ]
  },
  {
   "cell_type": "markdown",
   "metadata": {},
   "source": [
    "### Simulation\n",
    "\n",
    "After network creation and setup all that is left to do is to create and run simulation. Every simulation has its own network (sent as parameter) that it runs on:"
   ]
  },
  {
   "cell_type": "code",
   "execution_count": 12,
   "metadata": {},
   "outputs": [
    {
     "name": "stdout",
     "output_type": "stream",
     "text": [
      "DEBUG   [simulation.py]: Simulation 0x1bcc9ad0 created successfully.\n"
     ]
    }
   ],
   "source": [
    "sim = Simulation(net)"
   ]
  },
  {
   "cell_type": "markdown",
   "metadata": {},
   "source": [
    "Finally, run simulation:"
   ]
  },
  {
   "cell_type": "code",
   "execution_count": 13,
   "metadata": {},
   "outputs": [
    {
     "name": "stdout",
     "output_type": "stream",
     "text": [
      "DEBUG   [simulation.py]: [Flood] Step 1 finished\n",
      "DEBUG   [simulation.py]: [Flood] Step 2 finished\n",
      "DEBUG   [simulation.py]: [Flood] Step 3 finished\n",
      "DEBUG   [simulation.py]: [Flood] Step 4 finished\n",
      "DEBUG   [simulation.py]: [Flood] Step 5 finished\n",
      "DEBUG   [simulation.py]: [Flood] Step 6 finished\n",
      "DEBUG   [simulation.py]: [Flood] Step 7 finished\n",
      "DEBUG   [simulation.py]: [Flood] Step 8 finished\n",
      "DEBUG   [simulation.py]: [Flood] Step 9 finished\n",
      "DEBUG   [simulation.py]: [Flood] Step 10 finished\n",
      "DEBUG   [simulation.py]: [Flood] Step 11 finished\n",
      "DEBUG   [simulation.py]: [Flood] Step 12 finished\n",
      "DEBUG   [simulation.py]: [Flood] Step 13 finished\n",
      "DEBUG   [simulation.py]: [Flood] Step 14 finished\n",
      "DEBUG   [simulation.py]: [Flood] Step 15 finished\n",
      "DEBUG   [simulation.py]: [Flood] Step 16 finished\n",
      "DEBUG   [simulation.py]: [Flood] Step 17 finished\n",
      "DEBUG   [simulation.py]: [Flood] Step 18 finished\n",
      "DEBUG   [simulation.py]: [Flood] Step 19 finished\n",
      "DEBUG   [simulation.py]: [Flood] Step 20 finished\n",
      "DEBUG   [simulation.py]: [Flood] Step 21 finished\n",
      "DEBUG   [simulation.py]: [Flood] Step 22 finished\n",
      "DEBUG   [simulation.py]: [Flood] Step 23 finished\n",
      "DEBUG   [simulation.py]: [Flood] Step 24 finished\n",
      "DEBUG   [simulation.py]: [Flood] Step 25 finished\n",
      "DEBUG   [simulation.py]: [Flood] Step 26 finished\n",
      "DEBUG   [simulation.py]: [Flood] Step 27 finished\n",
      "DEBUG   [simulation.py]: [Flood] Step 28 finished\n",
      "DEBUG   [simulation.py]: [Flood] Step 29 finished\n",
      "DEBUG   [simulation.py]: [Flood] Step 30 finished\n",
      "DEBUG   [simulation.py]: [Flood] Step 31 finished\n",
      "DEBUG   [simulation.py]: [Flood] Step 32 finished\n",
      "DEBUG   [simulation.py]: [Flood] Step 33 finished\n",
      "DEBUG   [simulation.py]: [Flood] Step 34 finished\n",
      "DEBUG   [simulation.py]: [Flood] Step 35 finished\n",
      "DEBUG   [simulation.py]: [Flood] Step 36 finished\n",
      "DEBUG   [simulation.py]: [Flood] Step 37 finished\n",
      "DEBUG   [simulation.py]: [Flood] Step 38 finished\n",
      "DEBUG   [simulation.py]: [Flood] Step 39 finished\n",
      "DEBUG   [simulation.py]: [Flood] Step 40 finished\n",
      "DEBUG   [simulation.py]: [Flood] Step 41 finished\n",
      "DEBUG   [simulation.py]: [Flood] Step 42 finished\n",
      "DEBUG   [simulation.py]: [Flood] Step 43 finished\n",
      "DEBUG   [simulation.py]: [Flood] Step 44 finished\n",
      "DEBUG   [simulation.py]: [Flood] Algorithm finished\n",
      "INFO    [simulation.py]: Simulation has finished. There are no algorithms left to run. To run it from the start use sim.reset().\n"
     ]
    }
   ],
   "source": [
    "sim.run()"
   ]
  },
  {
   "cell_type": "markdown",
   "metadata": {},
   "source": [
    "After the algorithm(s) execution is done we can check if the resullt is as expected, that is every node should have information in their memory:"
   ]
  },
  {
   "cell_type": "code",
   "execution_count": 15,
   "metadata": {},
   "outputs": [
    {
     "name": "stdout",
     "output_type": "stream",
     "text": [
      "Hello distributed world\n",
      "Hello distributed world\n",
      "Hello distributed world\n",
      "Hello distributed world\n",
      "Hello distributed world\n",
      "Hello distributed world\n",
      "Hello distributed world\n",
      "Hello distributed world\n",
      "Hello distributed world\n",
      "Hello distributed world\n",
      "Hello distributed world\n",
      "Hello distributed world\n",
      "Hello distributed world\n",
      "Hello distributed world\n",
      "Hello distributed world\n",
      "Hello distributed world\n",
      "Hello distributed world\n",
      "Hello distributed world\n",
      "Hello distributed world\n",
      "Hello distributed world\n",
      "Hello distributed world\n",
      "Hello distributed world\n",
      "Hello distributed world\n",
      "Hello distributed world\n",
      "Hello distributed world\n",
      "Hello distributed world\n",
      "Hello distributed world\n",
      "Hello distributed world\n",
      "Hello distributed world\n",
      "Hello distributed world\n",
      "Hello distributed world\n",
      "Hello distributed world\n",
      "Hello distributed world\n",
      "Hello distributed world\n",
      "Hello distributed world\n",
      "Hello distributed world\n",
      "Hello distributed world\n",
      "Hello distributed world\n",
      "Hello distributed world\n",
      "Hello distributed world\n",
      "Hello distributed world\n",
      "Hello distributed world\n",
      "Hello distributed world\n",
      "Hello distributed world\n",
      "Hello distributed world\n",
      "Hello distributed world\n",
      "Hello distributed world\n",
      "Hello distributed world\n",
      "Hello distributed world\n",
      "Hello distributed world\n",
      "Hello distributed world\n",
      "Hello distributed world\n",
      "Hello distributed world\n",
      "Hello distributed world\n",
      "Hello distributed world\n",
      "Hello distributed world\n",
      "Hello distributed world\n",
      "Hello distributed world\n",
      "Hello distributed world\n",
      "Hello distributed world\n",
      "Hello distributed world\n",
      "Hello distributed world\n",
      "Hello distributed world\n",
      "Hello distributed world\n",
      "Hello distributed world\n",
      "Hello distributed world\n",
      "Hello distributed world\n",
      "Hello distributed world\n",
      "Hello distributed world\n",
      "Hello distributed world\n",
      "Hello distributed world\n",
      "Hello distributed world\n",
      "Hello distributed world\n",
      "Hello distributed world\n",
      "Hello distributed world\n",
      "Hello distributed world\n",
      "Hello distributed world\n",
      "Hello distributed world\n",
      "Hello distributed world\n",
      "Hello distributed world\n",
      "Hello distributed world\n",
      "Hello distributed world\n",
      "Hello distributed world\n",
      "Hello distributed world\n",
      "Hello distributed world\n",
      "Hello distributed world\n",
      "Hello distributed world\n",
      "Hello distributed world\n",
      "Hello distributed world\n",
      "Hello distributed world\n",
      "Hello distributed world\n",
      "Hello distributed world\n",
      "Hello distributed world\n",
      "Hello distributed world\n",
      "Hello distributed world\n",
      "Hello distributed world\n",
      "Hello distributed world\n",
      "Hello distributed world\n",
      "Hello distributed world\n",
      "Hello distributed world\n"
     ]
    }
   ],
   "source": [
    "for node in net.nodes():\n",
    "    print(node.memory['I'])"
   ]
  },
  {
   "cell_type": "markdown",
   "metadata": {},
   "source": [
    "During simulation execution, network and its nodes are changing their status, memory content etc. To memorize the currently running algorithm and current step of the simulation, network has a special attribute `algorithmsState`:"
   ]
  },
  {
   "cell_type": "code",
   "execution_count": 16,
   "metadata": {},
   "outputs": [
    {
     "data": {
      "text/plain": [
       "{'index': 0, 'step': 45, 'finished': True}"
      ]
     },
     "execution_count": 16,
     "metadata": {},
     "output_type": "execute_result"
    }
   ],
   "source": [
    "net.algorithmState"
   ]
  },
  {
   "cell_type": "markdown",
   "metadata": {},
   "source": [
    "If simulation is going to be run again, it must be reset:"
   ]
  },
  {
   "cell_type": "code",
   "execution_count": 17,
   "metadata": {},
   "outputs": [
    {
     "name": "stdout",
     "output_type": "stream",
     "text": [
      "INFO    [simulation.py]: Resetting simulation.\n"
     ]
    }
   ],
   "source": [
    "sim.reset()"
   ]
  },
  {
   "cell_type": "markdown",
   "metadata": {},
   "source": [
    "whereby:\n",
    "\n",
    "* `algorithmState` is returned to the initial value:"
   ]
  },
  {
   "cell_type": "code",
   "execution_count": 18,
   "metadata": {},
   "outputs": [
    {
     "data": {
      "text/plain": [
       "{'index': 0, 'step': 1, 'finished': False}"
      ]
     },
     "execution_count": 18,
     "metadata": {},
     "output_type": "execute_result"
    }
   ],
   "source": [
    "net.algorithmState"
   ]
  },
  {
   "cell_type": "markdown",
   "metadata": {},
   "source": [
    "* memory content of all node's is deleted (as long as some other attributes)"
   ]
  },
  {
   "cell_type": "code",
   "execution_count": 20,
   "metadata": {},
   "outputs": [
    {
     "name": "stdout",
     "output_type": "stream",
     "text": [
      "{}\n",
      "{}\n",
      "{}\n",
      "{}\n",
      "{}\n",
      "{}\n",
      "{}\n",
      "{}\n",
      "{}\n",
      "{}\n",
      "{}\n",
      "{}\n",
      "{}\n",
      "{}\n",
      "{}\n",
      "{}\n",
      "{}\n",
      "{}\n",
      "{}\n",
      "{}\n",
      "{}\n",
      "{}\n",
      "{}\n",
      "{}\n",
      "{}\n",
      "{}\n",
      "{}\n",
      "{}\n",
      "{}\n",
      "{}\n",
      "{}\n",
      "{}\n",
      "{}\n",
      "{}\n",
      "{}\n",
      "{}\n",
      "{}\n",
      "{}\n",
      "{}\n",
      "{}\n",
      "{}\n",
      "{}\n",
      "{}\n",
      "{}\n",
      "{}\n",
      "{}\n",
      "{}\n",
      "{}\n",
      "{}\n",
      "{}\n",
      "{}\n",
      "{}\n",
      "{}\n",
      "{}\n",
      "{}\n",
      "{}\n",
      "{}\n",
      "{}\n",
      "{}\n",
      "{}\n",
      "{}\n",
      "{}\n",
      "{}\n",
      "{}\n",
      "{}\n",
      "{}\n",
      "{}\n",
      "{}\n",
      "{}\n",
      "{}\n",
      "{}\n",
      "{}\n",
      "{}\n",
      "{}\n",
      "{}\n",
      "{}\n",
      "{}\n",
      "{}\n",
      "{}\n",
      "{}\n",
      "{}\n",
      "{}\n",
      "{}\n",
      "{}\n",
      "{}\n",
      "{}\n",
      "{}\n",
      "{}\n",
      "{}\n",
      "{}\n",
      "{}\n",
      "{}\n",
      "{}\n",
      "{}\n",
      "{}\n",
      "{}\n",
      "{}\n",
      "{}\n",
      "{}\n",
      "{}\n"
     ]
    }
   ],
   "source": [
    "for node in net.nodes():\n",
    "    print(node.memory)"
   ]
  },
  {
   "cell_type": "code",
   "execution_count": 21,
   "metadata": {},
   "outputs": [
    {
     "name": "stdout",
     "output_type": "stream",
     "text": [
      "DEBUG   [simulation.py]: [Flood] Step 1 finished\n",
      "DEBUG   [simulation.py]: [Flood] Step 2 finished\n",
      "DEBUG   [simulation.py]: [Flood] Step 3 finished\n",
      "DEBUG   [simulation.py]: [Flood] Step 4 finished\n",
      "DEBUG   [simulation.py]: [Flood] Step 5 finished\n",
      "DEBUG   [simulation.py]: [Flood] Step 6 finished\n",
      "DEBUG   [simulation.py]: [Flood] Step 7 finished\n",
      "DEBUG   [simulation.py]: [Flood] Step 8 finished\n",
      "DEBUG   [simulation.py]: [Flood] Step 9 finished\n",
      "DEBUG   [simulation.py]: [Flood] Step 10 finished\n",
      "DEBUG   [simulation.py]: [Flood] Step 11 finished\n",
      "DEBUG   [simulation.py]: [Flood] Step 12 finished\n",
      "DEBUG   [simulation.py]: [Flood] Step 13 finished\n",
      "DEBUG   [simulation.py]: [Flood] Step 14 finished\n",
      "DEBUG   [simulation.py]: [Flood] Step 15 finished\n",
      "DEBUG   [simulation.py]: [Flood] Step 16 finished\n",
      "DEBUG   [simulation.py]: [Flood] Step 17 finished\n",
      "DEBUG   [simulation.py]: [Flood] Step 18 finished\n",
      "DEBUG   [simulation.py]: [Flood] Step 19 finished\n",
      "DEBUG   [simulation.py]: [Flood] Step 20 finished\n",
      "DEBUG   [simulation.py]: [Flood] Step 21 finished\n",
      "DEBUG   [simulation.py]: [Flood] Step 22 finished\n",
      "DEBUG   [simulation.py]: [Flood] Step 23 finished\n",
      "DEBUG   [simulation.py]: [Flood] Step 24 finished\n",
      "DEBUG   [simulation.py]: [Flood] Step 25 finished\n",
      "DEBUG   [simulation.py]: [Flood] Step 26 finished\n",
      "DEBUG   [simulation.py]: [Flood] Step 27 finished\n",
      "DEBUG   [simulation.py]: [Flood] Step 28 finished\n",
      "DEBUG   [simulation.py]: [Flood] Step 29 finished\n",
      "DEBUG   [simulation.py]: [Flood] Step 30 finished\n",
      "DEBUG   [simulation.py]: [Flood] Step 31 finished\n",
      "DEBUG   [simulation.py]: [Flood] Step 32 finished\n",
      "DEBUG   [simulation.py]: [Flood] Step 33 finished\n",
      "DEBUG   [simulation.py]: [Flood] Step 34 finished\n",
      "DEBUG   [simulation.py]: [Flood] Step 35 finished\n",
      "DEBUG   [simulation.py]: [Flood] Step 36 finished\n",
      "DEBUG   [simulation.py]: [Flood] Step 37 finished\n",
      "DEBUG   [simulation.py]: [Flood] Step 38 finished\n",
      "DEBUG   [simulation.py]: [Flood] Step 39 finished\n",
      "DEBUG   [simulation.py]: [Flood] Step 40 finished\n",
      "DEBUG   [simulation.py]: [Flood] Step 41 finished\n",
      "DEBUG   [simulation.py]: [Flood] Step 42 finished\n",
      "DEBUG   [simulation.py]: [Flood] Step 43 finished\n",
      "DEBUG   [simulation.py]: [Flood] Step 44 finished\n",
      "DEBUG   [simulation.py]: [Flood] Algorithm finished\n",
      "INFO    [simulation.py]: Simulation has finished. There are no algorithms left to run. To run it from the start use sim.reset().\n"
     ]
    }
   ],
   "source": [
    "some_node.memory['I'] = 'Hello again'\n",
    "sim.run()"
   ]
  },
  {
   "cell_type": "code",
   "execution_count": null,
   "metadata": {},
   "outputs": [],
   "source": []
  }
 ],
 "metadata": {
  "kernelspec": {
   "display_name": "Python 3",
   "language": "python",
   "name": "python3"
  },
  "language_info": {
   "codemirror_mode": {
    "name": "ipython",
    "version": 3
   },
   "file_extension": ".py",
   "mimetype": "text/x-python",
   "name": "python",
   "nbconvert_exporter": "python",
   "pygments_lexer": "ipython3",
   "version": "3.7.2"
  }
 },
 "nbformat": 4,
 "nbformat_minor": 1
}
